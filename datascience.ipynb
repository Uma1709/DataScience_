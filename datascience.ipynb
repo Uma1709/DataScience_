{
  "cells": [
    {
      "cell_type": "markdown",
      "id": "c5480bf2",
      "metadata": {
        "id": "c5480bf2"
      },
      "source": [
        " 1.Write a Pandas program to get the powers of an array values element-wise."
      ]
    },
    {
      "cell_type": "code",
      "execution_count": null,
      "id": "ba14f75e",
      "metadata": {
        "id": "ba14f75e"
      },
      "outputs": [],
      "source": []
    },
    {
      "cell_type": "code",
      "execution_count": null,
      "id": "dee96fe9",
      "metadata": {
        "id": "dee96fe9",
        "outputId": "e23cf20f-d80a-495b-b1b8-8c98b7c7c871"
      },
      "outputs": [
        {
          "name": "stdout",
          "output_type": "stream",
          "text": [
            "    x   y   z\n",
            "0  78  67  56\n",
            "1  90  67  89\n",
            "2  89  87  57\n",
            "3  78  79  90\n"
          ]
        }
      ],
      "source": [
        "import pandas as pd\n",
        "data=pd.DataFrame({'x':[78,90,89,78],'y':[67,67,87,79],'z':[56,89,57,90]})\n",
        "print(data)\n"
      ]
    },
    {
      "cell_type": "markdown",
      "id": "ab9e55a7",
      "metadata": {
        "id": "ab9e55a7"
      },
      "source": [
        "2. Write a Pandas program to create and display a DataFrame from a specified dictionary data which has the index labels"
      ]
    },
    {
      "cell_type": "code",
      "execution_count": null,
      "id": "e823b3f5",
      "metadata": {
        "id": "e823b3f5",
        "outputId": "ed98d8d3-814c-4816-d38f-9f33b75e7b3c"
      },
      "outputs": [
        {
          "data": {
            "text/html": [
              "<div>\n",
              "<style scoped>\n",
              "    .dataframe tbody tr th:only-of-type {\n",
              "        vertical-align: middle;\n",
              "    }\n",
              "\n",
              "    .dataframe tbody tr th {\n",
              "        vertical-align: top;\n",
              "    }\n",
              "\n",
              "    .dataframe thead th {\n",
              "        text-align: right;\n",
              "    }\n",
              "</style>\n",
              "<table border=\"1\" class=\"dataframe\">\n",
              "  <thead>\n",
              "    <tr style=\"text-align: right;\">\n",
              "      <th></th>\n",
              "      <th>Name</th>\n",
              "      <th>Age</th>\n",
              "      <th>University</th>\n",
              "    </tr>\n",
              "  </thead>\n",
              "  <tbody>\n",
              "    <tr>\n",
              "      <th>0</th>\n",
              "      <td>Ankit</td>\n",
              "      <td>23</td>\n",
              "      <td>BHU</td>\n",
              "    </tr>\n",
              "    <tr>\n",
              "      <th>1</th>\n",
              "      <td>Aishwarya</td>\n",
              "      <td>21</td>\n",
              "      <td>JNU</td>\n",
              "    </tr>\n",
              "    <tr>\n",
              "      <th>2</th>\n",
              "      <td>Shaurya</td>\n",
              "      <td>22</td>\n",
              "      <td>DU</td>\n",
              "    </tr>\n",
              "    <tr>\n",
              "      <th>3</th>\n",
              "      <td>Shivangi</td>\n",
              "      <td>21</td>\n",
              "      <td>BHU</td>\n",
              "    </tr>\n",
              "  </tbody>\n",
              "</table>\n",
              "</div>"
            ],
            "text/plain": [
              "        Name  Age University\n",
              "0      Ankit   23        BHU\n",
              "1  Aishwarya   21        JNU\n",
              "2    Shaurya   22         DU\n",
              "3   Shivangi   21        BHU"
            ]
          },
          "execution_count": 11,
          "metadata": {},
          "output_type": "execute_result"
        }
      ],
      "source": [
        "import pandas as pd\n",
        "  \n",
        "details = {\n",
        "    'Name' : ['Ankit', 'Aishwarya', 'Shaurya', 'Shivangi'],\n",
        "    'Age' : [23, 21, 22, 21],\n",
        "    'University' : ['BHU', 'JNU', 'DU', 'BHU'],\n",
        "}\n",
        "   \n",
        "df = pd.DataFrame(details)\n",
        "  \n",
        "df"
      ]
    },
    {
      "cell_type": "markdown",
      "id": "6c1ea91a",
      "metadata": {
        "id": "6c1ea91a"
      },
      "source": [
        "3.Write a Pandas program to display a summary of the basic information about a specified DataFrame and its data.\n",
        "Sample Python dictionary data and list labels:"
      ]
    },
    {
      "cell_type": "code",
      "execution_count": null,
      "id": "cd0fe12c",
      "metadata": {
        "id": "cd0fe12c",
        "outputId": "45af0d0a-e0fb-4fce-a2a4-abc990cdd46d"
      },
      "outputs": [
        {
          "name": "stdout",
          "output_type": "stream",
          "text": [
            "Summary of the basic information about this DataFrame and its data:\n",
            "<class 'pandas.core.frame.DataFrame'>\n",
            "Index: 10 entries, a to j\n",
            "Data columns (total 4 columns):\n",
            " #   Column    Non-Null Count  Dtype  \n",
            "---  ------    --------------  -----  \n",
            " 0   name      10 non-null     object \n",
            " 1   score     8 non-null      float64\n",
            " 2   attempts  10 non-null     int64  \n",
            " 3   qualify   10 non-null     object \n",
            "dtypes: float64(1), int64(1), object(2)\n",
            "memory usage: 400.0+ bytes\n",
            "None\n"
          ]
        }
      ],
      "source": [
        "import pandas as pd\n",
        "import numpy as np\n",
        "\n",
        "exam_data  = {'name': ['Anastasia', 'Dima', 'Katherine', 'James', 'Emily', 'Michael', 'Matthew', 'Laura', 'Kevin', 'Jonas'],\n",
        "        'score': [12.5, 9, 16.5, np.nan, 9, 20, 14.5, np.nan, 8, 19],\n",
        "        'attempts': [1, 3, 2, 3, 2, 3, 1, 1, 2, 1],\n",
        "        'qualify': ['yes', 'no', 'yes', 'no', 'no', 'yes', 'yes', 'no', 'no', 'yes']}\n",
        "labels = ['a', 'b', 'c', 'd', 'e', 'f', 'g', 'h', 'i', 'j']\n",
        "\n",
        "df = pd.DataFrame(exam_data , index=labels)\n",
        "print(\"Summary of the basic information about this DataFrame and its data:\")\n",
        "print(df.info())"
      ]
    },
    {
      "cell_type": "markdown",
      "id": "22d6898a",
      "metadata": {
        "id": "22d6898a"
      },
      "source": [
        "4.Write a Pandas program to get the first 3 rows of a given DataFrame. Go to the editor\n",
        "Sample Python dictionary data and list labels:"
      ]
    },
    {
      "cell_type": "code",
      "execution_count": null,
      "id": "e2672d9a",
      "metadata": {
        "id": "e2672d9a",
        "outputId": "dc7bb469-5713-48b7-aa91-e3c3e937db15"
      },
      "outputs": [
        {
          "name": "stdout",
          "output_type": "stream",
          "text": [
            "First three rows of the data frame:\n",
            "        name  score  attempts qualify\n",
            "a  Anastasia   12.5         1     yes\n",
            "b       Dima    9.0         3      no\n",
            "c  Katherine   16.5         2     yes\n"
          ]
        }
      ],
      "source": [
        "import pandas as pd\n",
        "import numpy as np\n",
        "\n",
        "exam_data  = {'name': ['Anastasia', 'Dima', 'Katherine', 'James', 'Emily', 'Michael', 'Matthew', 'Laura', 'Kevin', 'Jonas'],\n",
        "        'score': [12.5, 9, 16.5, np.nan, 9, 20, 14.5, np.nan, 8, 19],\n",
        "        'attempts': [1, 3, 2, 3, 2, 3, 1, 1, 2, 1],\n",
        "        'qualify': ['yes', 'no', 'yes', 'no', 'no', 'yes', 'yes', 'no', 'no', 'yes']}\n",
        "labels = ['a', 'b', 'c', 'd', 'e', 'f', 'g', 'h', 'i', 'j']\n",
        "\n",
        "df = pd.DataFrame(exam_data , index=labels)\n",
        "print(\"First three rows of the data frame:\")\n",
        "print(df.iloc[:3])"
      ]
    },
    {
      "cell_type": "markdown",
      "id": "736255bc",
      "metadata": {
        "id": "736255bc"
      },
      "source": [
        "5.Write a Pandas program to select the 'name' and 'score' columns from the following DataFrame"
      ]
    },
    {
      "cell_type": "code",
      "execution_count": null,
      "id": "da467af9",
      "metadata": {
        "id": "da467af9",
        "outputId": "c933be2e-c82e-4271-d835-e496dc4ebe5b"
      },
      "outputs": [
        {
          "name": "stdout",
          "output_type": "stream",
          "text": [
            "Select specific columns:\n",
            "        name  score\n",
            "a  Anastasia   12.5\n",
            "b       Dima    9.0\n",
            "c  Katherine   16.5\n",
            "d      James    NaN\n",
            "e      Emily    9.0\n",
            "f    Michael   20.0\n",
            "g    Matthew   14.5\n",
            "h      Laura    NaN\n",
            "i      Kevin    8.0\n",
            "j      Jonas   19.0\n"
          ]
        }
      ],
      "source": [
        "import pandas as pd\n",
        "import numpy as np\n",
        "\n",
        "exam_data  = {'name': ['Anastasia', 'Dima', 'Katherine', 'James', 'Emily', 'Michael', 'Matthew', 'Laura', 'Kevin', 'Jonas'],\n",
        "        'score': [12.5, 9, 16.5, np.nan, 9, 20, 14.5, np.nan, 8, 19],\n",
        "        'attempts': [1, 3, 2, 3, 2, 3, 1, 1, 2, 1],\n",
        "        'qualify': ['yes', 'no', 'yes', 'no', 'no', 'yes', 'yes', 'no', 'no', 'yes']}\n",
        "labels = ['a', 'b', 'c', 'd', 'e', 'f', 'g', 'h', 'i', 'j']\n",
        "\n",
        "df = pd.DataFrame(exam_data , index=labels)\n",
        "print(\"Select specific columns:\")\n",
        "print(df[['name', 'score']])"
      ]
    },
    {
      "cell_type": "markdown",
      "id": "04b22ae2",
      "metadata": {
        "id": "04b22ae2"
      },
      "source": [
        "6. Write a Pandas program to select the specified columns and rows from a given data frame."
      ]
    },
    {
      "cell_type": "code",
      "execution_count": null,
      "id": "7bdc01b6",
      "metadata": {
        "id": "7bdc01b6",
        "outputId": "9ec8a454-e490-4926-c954-7ecd7fe89778"
      },
      "outputs": [
        {
          "name": "stdout",
          "output_type": "stream",
          "text": [
            "Select specific columns and rows:\n",
            "   score qualify\n",
            "b    9.0      no\n",
            "d    NaN      no\n",
            "f   20.0     yes\n",
            "g   14.5     yes\n"
          ]
        }
      ],
      "source": [
        "import pandas as pd\n",
        "import numpy as np\n",
        "\n",
        "exam_data  = {'name': ['Anastasia', 'Dima', 'Katherine', 'James', 'Emily', 'Michael', 'Matthew', 'Laura', 'Kevin', 'Jonas'],\n",
        "        'score': [12.5, 9, 16.5, np.nan, 9, 20, 14.5, np.nan, 8, 19],\n",
        "        'attempts': [1, 3, 2, 3, 2, 3, 1, 1, 2, 1],\n",
        "        'qualify': ['yes', 'no', 'yes', 'no', 'no', 'yes', 'yes', 'no', 'no', 'yes']}\n",
        "labels = ['a', 'b', 'c', 'd', 'e', 'f', 'g', 'h', 'i', 'j']\n",
        "\n",
        "df = pd.DataFrame(exam_data , index=labels)\n",
        "print(\"Select specific columns and rows:\")\n",
        "print(df.iloc[[1, 3, 5, 6], [1, 3]])"
      ]
    },
    {
      "cell_type": "markdown",
      "id": "51092216",
      "metadata": {
        "id": "51092216"
      },
      "source": [
        "7. Write a Pandas program to select the rows where the number of attempts in the examination is greater than 2"
      ]
    },
    {
      "cell_type": "code",
      "execution_count": null,
      "id": "23e3ddef",
      "metadata": {
        "id": "23e3ddef",
        "outputId": "c8970afd-2901-442a-854f-0365e2661e47"
      },
      "outputs": [
        {
          "name": "stdout",
          "output_type": "stream",
          "text": [
            "Number of attempts in the examination is less than 2 and score greater than 15 :\n",
            "    name  score  attempts qualify\n",
            "j  Jonas   19.0         1     yes\n"
          ]
        }
      ],
      "source": [
        "import pandas as pd\n",
        "import numpy as np\n",
        "exam_data  = {'name': ['Anastasia', 'Dima', 'Katherine', 'James', 'Emily', 'Michael', 'Matthew', 'Laura', 'Kevin', 'Jonas'],\n",
        "        'score': [12.5, 9, 16.5, np.nan, 9, 20, 14.5, np.nan, 8, 19],\n",
        "        'attempts': [1, 3, 2, 3, 2, 3, 1, 1, 2, 1],\n",
        "        'qualify': ['yes', 'no', 'yes', 'no', 'no', 'yes', 'yes', 'no', 'no', 'yes']}\n",
        "labels = ['a', 'b', 'c', 'd', 'e', 'f', 'g', 'h', 'i', 'j']\n",
        "df = pd.DataFrame(exam_data , index=labels)\n",
        "print(\"Number of attempts in the examination is less than 2 and score greater than 15 :\")\n",
        "print(df[(df['attempts'] < 2) & (df['score'] > 15)])"
      ]
    },
    {
      "cell_type": "markdown",
      "id": "9c895c31",
      "metadata": {
        "id": "9c895c31"
      },
      "source": [
        "8. Write a Pandas program to count the number of rows and columns of a DataFrame"
      ]
    },
    {
      "cell_type": "code",
      "execution_count": null,
      "id": "623bd712",
      "metadata": {
        "id": "623bd712",
        "outputId": "8bb706b9-535e-4f27-a0a4-7f227f697b26"
      },
      "outputs": [
        {
          "data": {
            "text/html": [
              "<div>\n",
              "<style scoped>\n",
              "    .dataframe tbody tr th:only-of-type {\n",
              "        vertical-align: middle;\n",
              "    }\n",
              "\n",
              "    .dataframe tbody tr th {\n",
              "        vertical-align: top;\n",
              "    }\n",
              "\n",
              "    .dataframe thead th {\n",
              "        text-align: right;\n",
              "    }\n",
              "</style>\n",
              "<table border=\"1\" class=\"dataframe\">\n",
              "  <thead>\n",
              "    <tr style=\"text-align: right;\">\n",
              "      <th></th>\n",
              "      <th>Name</th>\n",
              "      <th>Marks</th>\n",
              "    </tr>\n",
              "  </thead>\n",
              "  <tbody>\n",
              "    <tr>\n",
              "      <th>0</th>\n",
              "      <td>Martha</td>\n",
              "      <td>87</td>\n",
              "    </tr>\n",
              "    <tr>\n",
              "      <th>1</th>\n",
              "      <td>Tim</td>\n",
              "      <td>91</td>\n",
              "    </tr>\n",
              "    <tr>\n",
              "      <th>2</th>\n",
              "      <td>Rob</td>\n",
              "      <td>97</td>\n",
              "    </tr>\n",
              "    <tr>\n",
              "      <th>3</th>\n",
              "      <td>Georgia</td>\n",
              "      <td>95</td>\n",
              "    </tr>\n",
              "  </tbody>\n",
              "</table>\n",
              "</div>"
            ],
            "text/plain": [
              "      Name  Marks\n",
              "0   Martha     87\n",
              "1      Tim     91\n",
              "2      Rob     97\n",
              "3  Georgia     95"
            ]
          },
          "metadata": {},
          "output_type": "display_data"
        },
        {
          "name": "stdout",
          "output_type": "stream",
          "text": [
            "Rows: 4\n",
            "Columns: 2\n"
          ]
        }
      ],
      "source": [
        "import pandas as pd\n",
        "dict = {'Name' : ['Martha', 'Tim', 'Rob', 'Georgia'],\n",
        "        'Marks' : [87, 91, 97, 95]}\n",
        "df = pd.DataFrame(dict)\n",
        "display(df)\n",
        "rows = df.shape[0]\n",
        "cols = df.shape[1]\n",
        "print(\"Rows: \" + str(rows))\n",
        "print(\"Columns: \" + str(cols))"
      ]
    },
    {
      "cell_type": "markdown",
      "id": "2086aeb1",
      "metadata": {
        "id": "2086aeb1"
      },
      "source": [
        "9. Write a Pandas program to select the rows where the score is missing, i.e. is NaN."
      ]
    },
    {
      "cell_type": "code",
      "execution_count": null,
      "id": "b4ee52c6",
      "metadata": {
        "id": "b4ee52c6",
        "outputId": "8b151c1f-8b76-4394-cd4e-97c76748b238"
      },
      "outputs": [
        {
          "name": "stdout",
          "output_type": "stream",
          "text": [
            "Rows where score is missing:\n",
            "    name  score  attempts qualify\n",
            "d  James    NaN         3      no\n",
            "h  Laura    NaN         1      no\n"
          ]
        }
      ],
      "source": [
        "import pandas as pd\n",
        "import numpy as np\n",
        "exam_data  = {'name': ['Anastasia', 'Dima', 'Katherine', 'James', 'Emily', 'Michael', 'Matthew', 'Laura', 'Kevin', 'Jonas'],\n",
        "        'score': [12.5, 9, 16.5, np.nan, 9, 20, 14.5, np.nan, 8, 19],\n",
        "        'attempts': [1, 3, 2, 3, 2, 3, 1, 1, 2, 1],\n",
        "        'qualify': ['yes', 'no', 'yes', 'no', 'no', 'yes', 'yes', 'no', 'no', 'yes']}\n",
        "labels = ['a', 'b', 'c', 'd', 'e', 'f', 'g', 'h', 'i', 'j']\n",
        "\n",
        "df = pd.DataFrame(exam_data , index=labels)\n",
        "print(\"Rows where score is missing:\")\n",
        "print(df[df['score'].isnull()])"
      ]
    },
    {
      "cell_type": "markdown",
      "id": "0be39fc8",
      "metadata": {
        "id": "0be39fc8"
      },
      "source": [
        "10.Write a Pandas program to select the rows the score is between 15 and 20 (inclusive)"
      ]
    },
    {
      "cell_type": "code",
      "execution_count": null,
      "id": "944e9e12",
      "metadata": {
        "id": "944e9e12",
        "outputId": "70722e7f-d871-49f2-9d42-556a3f94f80b"
      },
      "outputs": [
        {
          "name": "stdout",
          "output_type": "stream",
          "text": [
            "Rows where score between 15 and 20 (inclusive):\n",
            "        name  score  attempts qualify\n",
            "c  Katherine   16.5         2     yes\n",
            "f    Michael   20.0         3     yes\n",
            "j      Jonas   19.0         1     yes\n"
          ]
        }
      ],
      "source": [
        "import pandas as pd\n",
        "import numpy as np\n",
        "exam_data  = {'name': ['Anastasia', 'Dima', 'Katherine', 'James', 'Emily', 'Michael', 'Matthew', 'Laura', 'Kevin', 'Jonas'],\n",
        "        'score': [12.5, 9, 16.5, np.nan, 9, 20, 14.5, np.nan, 8, 19],\n",
        "        'attempts': [1, 3, 2, 3, 2, 3, 1, 1, 2, 1],\n",
        "        'qualify': ['yes', 'no', 'yes', 'no', 'no', 'yes', 'yes', 'no', 'no', 'yes']}\n",
        "labels = ['a', 'b', 'c', 'd', 'e', 'f', 'g', 'h', 'i', 'j']\n",
        "\n",
        "df = pd.DataFrame(exam_data , index=labels)\n",
        "print(\"Rows where score between 15 and 20 (inclusive):\")\n",
        "print(df[df['score'].between(15, 20)])"
      ]
    },
    {
      "cell_type": "markdown",
      "id": "4106c55a",
      "metadata": {
        "id": "4106c55a"
      },
      "source": [
        "11.Write a Pandas program to select the rows where number of attempts in the examination is less than 2 and score greater than 15. "
      ]
    },
    {
      "cell_type": "code",
      "execution_count": null,
      "id": "79856a37",
      "metadata": {
        "id": "79856a37",
        "outputId": "be6a45a6-06b2-4c4f-c423-4eb355c3a347"
      },
      "outputs": [
        {
          "name": "stdout",
          "output_type": "stream",
          "text": [
            "Number of attempts in the examination is less than 2 and score greater than 15 :\n",
            "    name  score  attempts qualify\n",
            "j  Jonas   19.0         1     yes\n"
          ]
        }
      ],
      "source": [
        "import pandas as pd\n",
        "import numpy as np\n",
        "exam_data  = {'name': ['Anastasia', 'Dima', 'Katherine', 'James', 'Emily', 'Michael', 'Matthew', 'Laura', 'Kevin', 'Jonas'],\n",
        "        'score': [12.5, 9, 16.5, np.nan, 9, 20, 14.5, np.nan, 8, 19],\n",
        "        'attempts': [1, 3, 2, 3, 2, 3, 1, 1, 2, 1],\n",
        "        'qualify': ['yes', 'no', 'yes', 'no', 'no', 'yes', 'yes', 'no', 'no', 'yes']}\n",
        "labels = ['a', 'b', 'c', 'd', 'e', 'f', 'g', 'h', 'i', 'j']\n",
        "df = pd.DataFrame(exam_data , index=labels)\n",
        "print(\"Number of attempts in the examination is less than 2 and score greater than 15 :\")\n",
        "print(df[(df['attempts'] < 2) & (df['score'] > 15)])"
      ]
    },
    {
      "cell_type": "markdown",
      "id": "be80bfc0",
      "metadata": {
        "id": "be80bfc0"
      },
      "source": [
        "12.Write a Pandas program to change the score in row 'd' to 11.5."
      ]
    },
    {
      "cell_type": "code",
      "execution_count": null,
      "id": "d763734b",
      "metadata": {
        "id": "d763734b",
        "outputId": "0d177256-a76f-48ee-efc8-33aff4180559"
      },
      "outputs": [
        {
          "name": "stdout",
          "output_type": "stream",
          "text": [
            "\n",
            "Original data frame:\n",
            "        name  score  attempts qualify\n",
            "a  Anastasia   12.5         1     yes\n",
            "b       Dima    9.0         3      no\n",
            "c  Katherine   16.5         2     yes\n",
            "d      James    NaN         3      no\n",
            "e      Emily    9.0         2      no\n",
            "f    Michael   20.0         3     yes\n",
            "g    Matthew   14.5         1     yes\n",
            "h      Laura    NaN         1      no\n",
            "i      Kevin    8.0         2      no\n",
            "j      Jonas   19.0         1     yes\n",
            "\n",
            "Change the score in row 'd' to 11.5:\n",
            "        name  score  attempts qualify\n",
            "a  Anastasia   12.5         1     yes\n",
            "b       Dima    9.0         3      no\n",
            "c  Katherine   16.5         2     yes\n",
            "d      James   11.5         3      no\n",
            "e      Emily    9.0         2      no\n",
            "f    Michael   20.0         3     yes\n",
            "g    Matthew   14.5         1     yes\n",
            "h      Laura    NaN         1      no\n",
            "i      Kevin    8.0         2      no\n",
            "j      Jonas   19.0         1     yes\n"
          ]
        }
      ],
      "source": [
        "import pandas as pd\n",
        "import numpy as np\n",
        "exam_data  = {'name': ['Anastasia', 'Dima', 'Katherine', 'James', 'Emily', 'Michael', 'Matthew', 'Laura', 'Kevin', 'Jonas'],\n",
        "        'score': [12.5, 9, 16.5, np.nan, 9, 20, 14.5, np.nan, 8, 19],\n",
        "        'attempts': [1, 3, 2, 3, 2, 3, 1, 1, 2, 1],\n",
        "        'qualify': ['yes', 'no', 'yes', 'no', 'no', 'yes', 'yes', 'no', 'no', 'yes']}\n",
        "labels = ['a', 'b', 'c', 'd', 'e', 'f', 'g', 'h', 'i', 'j']\n",
        "\n",
        "df = pd.DataFrame(exam_data , index=labels)\n",
        "print(\"\\nOriginal data frame:\")\n",
        "print(df)\n",
        "print(\"\\nChange the score in row 'd' to 11.5:\")\n",
        "df.loc['d', 'score'] = 11.5\n",
        "print(df)"
      ]
    },
    {
      "cell_type": "markdown",
      "id": "0eee15e3",
      "metadata": {
        "id": "0eee15e3"
      },
      "source": [
        "13.Write a Pandas program to calculate the sum of the examination attempts by the students"
      ]
    },
    {
      "cell_type": "code",
      "execution_count": null,
      "id": "828b8c70",
      "metadata": {
        "id": "828b8c70",
        "outputId": "68f6e99b-b345-45eb-cb27-6e569fa6d7b5"
      },
      "outputs": [
        {
          "name": "stdout",
          "output_type": "stream",
          "text": [
            "\n",
            "Sum of the examination attempts by the students:\n",
            "19\n"
          ]
        }
      ],
      "source": [
        "import pandas as pd\n",
        "import numpy as np\n",
        "exam_data  = {'name': ['Anastasia', 'Dima', 'Katherine', 'James', 'Emily', 'Michael', 'Matthew', 'Laura', 'Kevin', 'Jonas'],\n",
        "        'score': [12.5, 9, 16.5, np.nan, 9, 20, 14.5, np.nan, 8, 19],\n",
        "        'attempts': [1, 3, 2, 3, 2, 3, 1, 1, 2, 1],\n",
        "        'qualify': ['yes', 'no', 'yes', 'no', 'no', 'yes', 'yes', 'no', 'no', 'yes']}\n",
        "labels = ['a', 'b', 'c', 'd', 'e', 'f', 'g', 'h', 'i', 'j']\n",
        "df = pd.DataFrame(exam_data , index=labels)\n",
        "print(\"\\nSum of the examination attempts by the students:\")\n",
        "print(df['attempts'].sum())"
      ]
    },
    {
      "cell_type": "markdown",
      "id": "fd8c894b",
      "metadata": {
        "id": "fd8c894b"
      },
      "source": [
        "14. Write a Pandas program to calculate the mean score for each different student in DataFrame"
      ]
    },
    {
      "cell_type": "code",
      "execution_count": null,
      "id": "7eca96b0",
      "metadata": {
        "id": "7eca96b0",
        "outputId": "85b3339e-2daf-44c7-f92a-83563fdb0dce"
      },
      "outputs": [
        {
          "name": "stdout",
          "output_type": "stream",
          "text": [
            "\n",
            "Mean score for each different student in data frame:\n",
            "13.5625\n"
          ]
        }
      ],
      "source": [
        "import pandas as pd\n",
        "import numpy as np\n",
        "exam_data  = {'name': ['Anastasia', 'Dima', 'Katherine', 'James', 'Emily', 'Michael', 'Matthew', 'Laura', 'Kevin', 'Jonas'],\n",
        "        'score': [12.5, 9, 16.5, np.nan, 9, 20, 14.5, np.nan, 8, 19],\n",
        "        'attempts': [1, 3, 2, 3, 2, 3, 1, 1, 2, 1],\n",
        "        'qualify': ['yes', 'no', 'yes', 'no', 'no', 'yes', 'yes', 'no', 'no', 'yes']}\n",
        "labels = ['a', 'b', 'c', 'd', 'e', 'f', 'g', 'h', 'i', 'j']\n",
        "\n",
        "df = pd.DataFrame(exam_data , index=labels)\n",
        "print(\"\\nMean score for each different student in data frame:\")\n",
        "print(df['score'].mean())\n"
      ]
    },
    {
      "cell_type": "markdown",
      "id": "17988d3c",
      "metadata": {
        "id": "17988d3c"
      },
      "source": [
        "15. Write a Pandas program to append a new row 'k' to data frame with given values for each column"
      ]
    },
    {
      "cell_type": "code",
      "execution_count": null,
      "id": "4e3e1fcc",
      "metadata": {
        "id": "4e3e1fcc",
        "outputId": "07176f66-20d9-4aea-f82b-4e224063c05d"
      },
      "outputs": [
        {
          "name": "stdout",
          "output_type": "stream",
          "text": [
            "   Name  Age  Location\n",
            "0   Nik   31   Toronto\n",
            "1  Kate   30    London\n",
            "2  Evan   40  Kingston\n",
            "3  Kyra   33  Hamilton\n"
          ]
        }
      ],
      "source": [
        "import pandas as pd\n",
        "df = pd.DataFrame.from_dict({\n",
        "    'Name': ['Nik', 'Kate', 'Evan', 'Kyra'],\n",
        "    'Age': [31, 30, 40, 33],\n",
        "    'Location': ['Toronto', 'London', 'Kingston', 'Hamilton']\n",
        "})\n",
        "print(df)\n",
        "\n"
      ]
    },
    {
      "cell_type": "markdown",
      "id": "9bb19979",
      "metadata": {
        "id": "9bb19979"
      },
      "source": [
        "16. Write a Pandas program to sort the DataFrame first by 'name' in descending order, then by 'score' in ascending order."
      ]
    },
    {
      "cell_type": "code",
      "execution_count": null,
      "id": "ec94f853",
      "metadata": {
        "id": "ec94f853",
        "outputId": "aaf6f744-e17c-4d8a-a0db-c22393344f31"
      },
      "outputs": [
        {
          "data": {
            "text/html": [
              "<div>\n",
              "<style scoped>\n",
              "    .dataframe tbody tr th:only-of-type {\n",
              "        vertical-align: middle;\n",
              "    }\n",
              "\n",
              "    .dataframe tbody tr th {\n",
              "        vertical-align: top;\n",
              "    }\n",
              "\n",
              "    .dataframe thead th {\n",
              "        text-align: right;\n",
              "    }\n",
              "</style>\n",
              "<table border=\"1\" class=\"dataframe\">\n",
              "  <thead>\n",
              "    <tr style=\"text-align: right;\">\n",
              "      <th></th>\n",
              "      <th>Country</th>\n",
              "      <th>Year</th>\n",
              "      <th>Population</th>\n",
              "      <th>Continent</th>\n",
              "    </tr>\n",
              "  </thead>\n",
              "  <tbody>\n",
              "    <tr>\n",
              "      <th>0</th>\n",
              "      <td>Afghanistan</td>\n",
              "      <td>1952</td>\n",
              "      <td>8425333.0</td>\n",
              "      <td>Asia</td>\n",
              "    </tr>\n",
              "    <tr>\n",
              "      <th>1</th>\n",
              "      <td>Australia</td>\n",
              "      <td>1957</td>\n",
              "      <td>9712569.0</td>\n",
              "      <td>Oceania</td>\n",
              "    </tr>\n",
              "    <tr>\n",
              "      <th>2</th>\n",
              "      <td>Brazil</td>\n",
              "      <td>1962</td>\n",
              "      <td>76039390.0</td>\n",
              "      <td>Americas</td>\n",
              "    </tr>\n",
              "    <tr>\n",
              "      <th>3</th>\n",
              "      <td>China</td>\n",
              "      <td>1957</td>\n",
              "      <td>637408000.0</td>\n",
              "      <td>Asia</td>\n",
              "    </tr>\n",
              "    <tr>\n",
              "      <th>4</th>\n",
              "      <td>France</td>\n",
              "      <td>1957</td>\n",
              "      <td>44310863.0</td>\n",
              "      <td>Europe</td>\n",
              "    </tr>\n",
              "    <tr>\n",
              "      <th>5</th>\n",
              "      <td>India</td>\n",
              "      <td>1952</td>\n",
              "      <td>372000000.0</td>\n",
              "      <td>Asia</td>\n",
              "    </tr>\n",
              "    <tr>\n",
              "      <th>6</th>\n",
              "      <td>United States</td>\n",
              "      <td>1957</td>\n",
              "      <td>171984000.0</td>\n",
              "      <td>Americas</td>\n",
              "    </tr>\n",
              "  </tbody>\n",
              "</table>\n",
              "</div>"
            ],
            "text/plain": [
              "         Country  Year   Population Continent\n",
              "0    Afghanistan  1952    8425333.0      Asia\n",
              "1      Australia  1957    9712569.0   Oceania\n",
              "2         Brazil  1962   76039390.0  Americas\n",
              "3          China  1957  637408000.0      Asia\n",
              "4         France  1957   44310863.0    Europe\n",
              "5          India  1952  372000000.0      Asia\n",
              "6  United States  1957  171984000.0  Americas"
            ]
          },
          "execution_count": 15,
          "metadata": {},
          "output_type": "execute_result"
        }
      ],
      "source": [
        "import pandas as pd\n",
        "age_list = [['Afghanistan', 1952, 8425333, 'Asia'],\n",
        "            ['Australia', 1957, 9712569, 'Oceania'],\n",
        "            ['Brazil', 1962, 76039390, 'Americas'],\n",
        "            ['China', 1957, 637408000, 'Asia'],\n",
        "            ['France', 1957, 44310863, 'Europe'],\n",
        "            ['India', 1952, 3.72e+08, 'Asia'],\n",
        "            ['United States', 1957, 171984000, 'Americas']]\n",
        "df = pd.DataFrame(age_list, columns=['Country', 'Year',\n",
        "                                     'Population', 'Continent'])\n",
        " \n",
        "df"
      ]
    },
    {
      "cell_type": "markdown",
      "id": "c5c913b6",
      "metadata": {
        "id": "c5c913b6"
      },
      "source": [
        "17.Write a Pandas program to replace the 'qualify' column contains the values 'yes' and 'no' with True and False."
      ]
    },
    {
      "cell_type": "code",
      "execution_count": null,
      "id": "d754057a",
      "metadata": {
        "id": "d754057a",
        "outputId": "6f71feaf-1442-4dec-cddf-742c9a9305c1"
      },
      "outputs": [
        {
          "data": {
            "text/html": [
              "<div>\n",
              "<style scoped>\n",
              "    .dataframe tbody tr th:only-of-type {\n",
              "        vertical-align: middle;\n",
              "    }\n",
              "\n",
              "    .dataframe tbody tr th {\n",
              "        vertical-align: top;\n",
              "    }\n",
              "\n",
              "    .dataframe thead th {\n",
              "        text-align: right;\n",
              "    }\n",
              "</style>\n",
              "<table border=\"1\" class=\"dataframe\">\n",
              "  <thead>\n",
              "    <tr style=\"text-align: right;\">\n",
              "      <th></th>\n",
              "      <th>name</th>\n",
              "      <th>score</th>\n",
              "      <th>attempts</th>\n",
              "      <th>qualify</th>\n",
              "    </tr>\n",
              "  </thead>\n",
              "  <tbody>\n",
              "    <tr>\n",
              "      <th>0</th>\n",
              "      <td>Anastasia</td>\n",
              "      <td>12.5</td>\n",
              "      <td>1</td>\n",
              "      <td>true</td>\n",
              "    </tr>\n",
              "    <tr>\n",
              "      <th>1</th>\n",
              "      <td>Dima</td>\n",
              "      <td>9.0</td>\n",
              "      <td>3</td>\n",
              "      <td>no</td>\n",
              "    </tr>\n",
              "    <tr>\n",
              "      <th>2</th>\n",
              "      <td>Katherine</td>\n",
              "      <td>16.5</td>\n",
              "      <td>2</td>\n",
              "      <td>true</td>\n",
              "    </tr>\n",
              "    <tr>\n",
              "      <th>3</th>\n",
              "      <td>James</td>\n",
              "      <td>NaN</td>\n",
              "      <td>3</td>\n",
              "      <td>no</td>\n",
              "    </tr>\n",
              "    <tr>\n",
              "      <th>4</th>\n",
              "      <td>Emily</td>\n",
              "      <td>9.0</td>\n",
              "      <td>2</td>\n",
              "      <td>no</td>\n",
              "    </tr>\n",
              "    <tr>\n",
              "      <th>5</th>\n",
              "      <td>Michael</td>\n",
              "      <td>20.0</td>\n",
              "      <td>3</td>\n",
              "      <td>true</td>\n",
              "    </tr>\n",
              "    <tr>\n",
              "      <th>6</th>\n",
              "      <td>Matthew</td>\n",
              "      <td>14.5</td>\n",
              "      <td>1</td>\n",
              "      <td>true</td>\n",
              "    </tr>\n",
              "    <tr>\n",
              "      <th>7</th>\n",
              "      <td>Laura</td>\n",
              "      <td>NaN</td>\n",
              "      <td>1</td>\n",
              "      <td>no</td>\n",
              "    </tr>\n",
              "    <tr>\n",
              "      <th>8</th>\n",
              "      <td>Kevin</td>\n",
              "      <td>8.0</td>\n",
              "      <td>2</td>\n",
              "      <td>no</td>\n",
              "    </tr>\n",
              "    <tr>\n",
              "      <th>9</th>\n",
              "      <td>Jonas</td>\n",
              "      <td>19.0</td>\n",
              "      <td>1</td>\n",
              "      <td>true</td>\n",
              "    </tr>\n",
              "  </tbody>\n",
              "</table>\n",
              "</div>"
            ],
            "text/plain": [
              "        name  score  attempts qualify\n",
              "0  Anastasia   12.5         1    true\n",
              "1       Dima    9.0         3      no\n",
              "2  Katherine   16.5         2    true\n",
              "3      James    NaN         3      no\n",
              "4      Emily    9.0         2      no\n",
              "5    Michael   20.0         3    true\n",
              "6    Matthew   14.5         1    true\n",
              "7      Laura    NaN         1      no\n",
              "8      Kevin    8.0         2      no\n",
              "9      Jonas   19.0         1    true"
            ]
          },
          "execution_count": 18,
          "metadata": {},
          "output_type": "execute_result"
        }
      ],
      "source": [
        "import numpy as np\n",
        "import pandas as pd\n",
        "\n",
        "exam_data =pd.DataFrame( {'name': ['Anastasia', 'Dima', 'Katherine', \n",
        "'James', 'Emily', 'Michael', 'Matthew', 'Laura', 'Kevin', 'Jonas'],\n",
        "'score': [12.5, 9, 16.5, np.nan, 9, 20, 14.5, np.nan, 8, 19],\n",
        "'attempts': [1, 3, 2, 3, 2, 3, 1, 1, 2, 1],\n",
        "'qualify': ['yes', 'no', 'yes', 'no', 'no', 'yes', 'yes', 'no', 'no', \n",
        "'yes']})\n",
        "exam_data.set_index([['a', 'b', 'c', 'd', 'e', 'f', 'g', 'h', 'i', 'j'],'name'])\n",
        "r1 = exam_data.replace('yes', 'true')\n",
        "r2 = exam_data.replace('no', 'false')\n",
        "r1"
      ]
    },
    {
      "cell_type": "markdown",
      "id": "d0eb56c4",
      "metadata": {
        "id": "d0eb56c4"
      },
      "source": [
        "19.Write a Pandas program to change the name 'James' to 'Suresh' in name column of the DataFrame."
      ]
    },
    {
      "cell_type": "code",
      "execution_count": null,
      "id": "0cbd35ef",
      "metadata": {
        "id": "0cbd35ef",
        "outputId": "6701d27e-fa70-4298-c1fb-521a40220d79"
      },
      "outputs": [
        {
          "name": "stdout",
          "output_type": "stream",
          "text": [
            "james:\n"
          ]
        },
        {
          "data": {
            "text/plain": [
              "0    suresh\n",
              "1       for\n",
              "2     geeks\n",
              "3    pandas\n",
              "4    series\n",
              "dtype: object"
            ]
          },
          "execution_count": 21,
          "metadata": {},
          "output_type": "execute_result"
        }
      ],
      "source": [
        "import pandas as pd\n",
        "  \n",
        "# Create the series\n",
        "series = pd.Series(['suresh', 'for', 'geeks',\n",
        "                    'pandas', 'series']\n",
        "print(\"james:\")\n",
        "series"
      ]
    },
    {
      "cell_type": "markdown",
      "id": "abd9fa84",
      "metadata": {
        "id": "abd9fa84"
      },
      "source": [
        "20. Write a Pandas program to delete the 'attempts' column from the DataFrame\n"
      ]
    },
    {
      "cell_type": "code",
      "execution_count": null,
      "id": "87cecf62",
      "metadata": {
        "id": "87cecf62",
        "outputId": "24f935c1-189b-47fc-b502-85e5a09a64b1"
      },
      "outputs": [
        {
          "name": "stdout",
          "output_type": "stream",
          "text": [
            "Original rows:\n",
            "        name  score  attempts qualify\n",
            "a  Anastasia   12.5         1     yes\n",
            "b       Dima    9.0         3      no\n",
            "c  Katherine   16.5         2     yes\n",
            "d      James    NaN         3      no\n",
            "e      Emily    9.0         2      no\n",
            "f    Michael   20.0         3     yes\n",
            "g    Matthew   14.5         1     yes\n",
            "h      Laura    NaN         1      no\n",
            "i      Kevin    8.0         2      no\n",
            "j      Jonas   19.0         1     yes\n",
            "\n",
            "Delete the 'attempts' column from the data frame:\n",
            "        name  score qualify\n",
            "a  Anastasia   12.5     yes\n",
            "b       Dima    9.0      no\n",
            "c  Katherine   16.5     yes\n",
            "d      James    NaN      no\n",
            "e      Emily    9.0      no\n",
            "f    Michael   20.0     yes\n",
            "g    Matthew   14.5     yes\n",
            "h      Laura    NaN      no\n",
            "i      Kevin    8.0      no\n",
            "j      Jonas   19.0     yes\n"
          ]
        }
      ],
      "source": [
        "import pandas as pd\n",
        "import numpy as np\n",
        "exam_data  = {'name': ['Anastasia', 'Dima', 'Katherine', 'James', 'Emily', 'Michael', 'Matthew', 'Laura', 'Kevin', 'Jonas'],\n",
        "        'score': [12.5, 9, 16.5, np.nan, 9, 20, 14.5, np.nan, 8, 19],\n",
        "        'attempts': [1, 3, 2, 3, 2, 3, 1, 1, 2, 1],\n",
        "        'qualify': ['yes', 'no', 'yes', 'no', 'no', 'yes', 'yes', 'no', 'no', 'yes']}\n",
        "labels = ['a', 'b', 'c', 'd', 'e', 'f', 'g', 'h', 'i', 'j']\n",
        "df = pd.DataFrame(exam_data , index=labels)\n",
        "print(\"Original rows:\")\n",
        "print(df)\n",
        "print(\"\\nDelete the 'attempts' column from the data frame:\")\n",
        "df.pop('attempts')\n",
        "print(df)"
      ]
    },
    {
      "cell_type": "markdown",
      "id": "edf47c48",
      "metadata": {
        "id": "edf47c48"
      },
      "source": [
        "21.Write a Pandas program to iterate over rows in a DataFrame."
      ]
    },
    {
      "cell_type": "code",
      "execution_count": null,
      "id": "c2afd3a3",
      "metadata": {
        "id": "c2afd3a3",
        "outputId": "cbe75f27-564c-4a41-ef0f-e937180afc3b"
      },
      "outputs": [
        {
          "name": "stdout",
          "output_type": "stream",
          "text": [
            "Anastasia 12.5\n",
            "Dima 9.0\n",
            "Katherine 16.5\n"
          ]
        }
      ],
      "source": [
        "import pandas as pd\n",
        "import numpy as np\n",
        "exam_data = [{'name':'Anastasia', 'score':12.5}, {'name':'Dima','score':9}, {'name':'Katherine','score':16.5}]\n",
        "df = pd.DataFrame(exam_data)\n",
        "for index, row in df.iterrows():\n",
        "    print(row['name'], row['score'])"
      ]
    },
    {
      "cell_type": "markdown",
      "id": "f8de8219",
      "metadata": {
        "id": "f8de8219"
      },
      "source": [
        "22.Write a Pandas program to get list from DataFrame column headers"
      ]
    },
    {
      "cell_type": "code",
      "execution_count": null,
      "id": "7ddf05f0",
      "metadata": {
        "id": "7ddf05f0",
        "outputId": "b0ef68aa-968c-43d4-a855-9a2893628b72"
      },
      "outputs": [
        {
          "name": "stdout",
          "output_type": "stream",
          "text": [
            "['name', 'score', 'attempts', 'qualify']\n"
          ]
        }
      ],
      "source": [
        "import pandas as pd\n",
        "import numpy as np\n",
        "exam_data  = {'name': ['Anastasia', 'Dima', 'Katherine', 'James', 'Emily', 'Michael', 'Matthew', 'Laura', 'Kevin', 'Jonas'],\n",
        "        'score': [12.5, 9, 16.5, np.nan, 9, 20, 14.5, np.nan, 8, 19],\n",
        "        'attempts': [1, 3, 2, 3, 2, 3, 1, 1, 2, 1],\n",
        "        'qualify': ['yes', 'no', 'yes', 'no', 'no', 'yes', 'yes', 'no', 'no', 'yes']}\n",
        "labels = ['a', 'b', 'c', 'd', 'e', 'f', 'g', 'h', 'i', 'j']\n",
        "df = pd.DataFrame(exam_data , index=labels)\n",
        "print(list(df.columns.values))"
      ]
    },
    {
      "cell_type": "markdown",
      "id": "a6ecfb43",
      "metadata": {
        "id": "a6ecfb43"
      },
      "source": [
        "23. Write a Pandas program to select rows from a given DataFrame based on values in some columns. "
      ]
    },
    {
      "cell_type": "code",
      "execution_count": null,
      "id": "bd4e4f8a",
      "metadata": {
        "id": "bd4e4f8a",
        "outputId": "0c6c2b40-5d59-48ad-cae8-399e40d80ab6"
      },
      "outputs": [
        {
          "name": "stdout",
          "output_type": "stream",
          "text": [
            "Rows for colum1 value == 4\n",
            "   col1  col2  col3\n",
            "1     4     5     8\n",
            "3     4     7     0\n"
          ]
        }
      ],
      "source": [
        "import pandas as pd\n",
        "import numpy as np\n",
        "d = {'col1': [1, 4, 3, 4, 5], 'col2': [4, 5, 6, 7, 8], 'col3': [7, 8, 9, 0, 1]}\n",
        "df = pd.DataFrame(data=d)\n",
        "print('Rows for colum1 value == 4')\n",
        "print(df.loc[df['col1'] == 4])"
      ]
    },
    {
      "cell_type": "markdown",
      "id": "8406bf00",
      "metadata": {
        "id": "8406bf00"
      },
      "source": []
    },
    {
      "cell_type": "code",
      "execution_count": null,
      "id": "69fe1583",
      "metadata": {
        "id": "69fe1583"
      },
      "outputs": [],
      "source": []
    },
    {
      "cell_type": "markdown",
      "id": "366d0e35",
      "metadata": {
        "id": "366d0e35"
      },
      "source": [
        "24. Write a Pandas program to change the order of a DataFrame columns"
      ]
    },
    {
      "cell_type": "code",
      "execution_count": null,
      "id": "7558508a",
      "metadata": {
        "id": "7558508a",
        "outputId": "457a7053-c913-425c-ef1f-94e3f95229fe"
      },
      "outputs": [
        {
          "name": "stdout",
          "output_type": "stream",
          "text": [
            "After altering col1 and col3\n",
            "   col3  col2  col1\n",
            "0     7     4     1\n",
            "1     8     5     4\n",
            "2     9     6     3\n",
            "3     0     7     4\n",
            "4     1     8     5\n"
          ]
        }
      ],
      "source": [
        "import pandas as pd\n",
        "import numpy as np\n",
        "d = {'col1': [1, 4, 3, 4, 5], 'col2': [4, 5, 6, 7, 8], 'col3': [7, 8, 9, 0, 1]}\n",
        "df = pd.DataFrame(data=d)\n",
        "print('After altering col1 and col3')\n",
        "df = df[['col3', 'col2', 'col1']]\n",
        "print(df)"
      ]
    },
    {
      "cell_type": "markdown",
      "id": "1920329e",
      "metadata": {
        "id": "1920329e"
      },
      "source": [
        "25. Write a Pandas program to add one row in an existing DataFrame.\n"
      ]
    },
    {
      "cell_type": "code",
      "execution_count": null,
      "id": "50b9911e",
      "metadata": {
        "id": "50b9911e",
        "outputId": "ce6ebebe-3698-4711-ddc4-e791d6bbdc34"
      },
      "outputs": [
        {
          "name": "stdout",
          "output_type": "stream",
          "text": [
            "After add one row:\n",
            "   col1  col2  col3\n",
            "0     1     4     7\n",
            "1     4     5     8\n",
            "2     3     6     9\n",
            "3     4     7     0\n",
            "4     5     8     1\n",
            "5    10    11    12\n"
          ]
        },
        {
          "name": "stderr",
          "output_type": "stream",
          "text": [
            "C:\\Users\\21ad058\\AppData\\Local\\Temp\\ipykernel_7056\\2203828443.py:8: FutureWarning: The frame.append method is deprecated and will be removed from pandas in a future version. Use pandas.concat instead.\n",
            "  df = df.append(df2, ignore_index=True)\n"
          ]
        }
      ],
      "source": [
        "import pandas as pd\n",
        "import numpy as np\n",
        "d = {'col1': [1, 4, 3, 4, 5], 'col2': [4, 5, 6, 7, 8], 'col3': [7, 8, 9, 0, 1]}\n",
        "df = pd.DataFrame(data=d)\n",
        "print('After add one row:')\n",
        "df2 = {'col1': 10, 'col2': 11, 'col3': 12}\n",
        "df = df.append(df2, ignore_index=True)\n",
        "print(df)"
      ]
    },
    {
      "cell_type": "markdown",
      "id": "ab01825a",
      "metadata": {
        "id": "ab01825a"
      },
      "source": [
        "26.Write a Pandas program to write a DataFrame to CSV file using tab separator."
      ]
    },
    {
      "cell_type": "code",
      "execution_count": null,
      "id": "a5500ac6",
      "metadata": {
        "id": "a5500ac6",
        "outputId": "bfaab5bd-21da-47c8-c2d9-55735f24a8bd"
      },
      "outputs": [
        {
          "name": "stdout",
          "output_type": "stream",
          "text": [
            "Data from new_file.csv file:\n",
            "  col1\\tcol2\\tcol3\n",
            "0          1\\t4\\t7\n",
            "1          4\\t5\\t8\n",
            "2          3\\t6\\t9\n",
            "3          4\\t7\\t0\n",
            "4          5\\t8\\t1\n"
          ]
        }
      ],
      "source": [
        "import pandas as pd\n",
        "import numpy as np\n",
        "d = {'col1': [1, 4, 3, 4, 5], 'col2': [4, 5, 6, 7, 8], 'col3': [7, 8, 9, 0, 1]}\n",
        "df = pd.DataFrame(data=d)\n",
        "print('Data from new_file.csv file:')\n",
        "df.to_csv('new_file.csv', sep='\\t', index=False)\n",
        "new_df = pd.read_csv('new_file.csv')\n",
        "print(new_df)"
      ]
    },
    {
      "cell_type": "markdown",
      "id": "9662863c",
      "metadata": {
        "id": "9662863c"
      },
      "source": [
        "27.Write a Pandas program to count city wise number of people from a given of data set (city, name of the person)"
      ]
    },
    {
      "cell_type": "code",
      "execution_count": null,
      "id": "dd04e3e3",
      "metadata": {
        "id": "dd04e3e3",
        "outputId": "baaa818a-a5ef-4cfe-9a92-2f0ab0c01b8a"
      },
      "outputs": [
        {
          "name": "stdout",
          "output_type": "stream",
          "text": [
            "          city  Name of the person\n",
            "0   California                   4\n",
            "1      Georgia                   2\n",
            "2  Los Angeles                   4\n"
          ]
        }
      ],
      "source": [
        "import pandas as pd\n",
        "df1 = pd.DataFrame({'name': ['Anastasia', 'Dima', 'Katherine', 'James', 'Emily', 'Michael', 'Matthew', 'Laura', 'Kevin', 'Jonas'],\n",
        "'city': ['California', 'Los Angeles', 'California', 'California', 'California', 'Los Angeles', 'Los Angeles', 'Georgia', 'Georgia', 'Los Angeles']})\n",
        "g1 = df1.groupby([\"city\"]).size().reset_index(name='Name of the person')\n",
        "print(g1)"
      ]
    },
    {
      "cell_type": "markdown",
      "id": "90ea2bdc",
      "metadata": {
        "id": "90ea2bdc"
      },
      "source": [
        "28. Write a Pandas program to delete DataFrame row(s) based on given column value. "
      ]
    },
    {
      "cell_type": "code",
      "execution_count": null,
      "id": "c51ee9da",
      "metadata": {
        "id": "c51ee9da",
        "outputId": "b3944e2e-da97-405a-85fb-539ec4e1360c"
      },
      "outputs": [
        {
          "name": "stdout",
          "output_type": "stream",
          "text": [
            "New DataFrame\n",
            "   col1  col2  col3\n",
            "0     1     4     7\n",
            "2     3     6     9\n",
            "3     4     7     0\n",
            "4     5     8     1\n"
          ]
        }
      ],
      "source": [
        "import pandas as pd\n",
        "import numpy as np\n",
        "d = {'col1': [1, 4, 3, 4, 5], 'col2': [4, 5, 6, 7, 8], 'col3': [7, 8, 9, 0, 1]}\n",
        "df = pd.DataFrame(data=d)\n",
        "df = df[df.col2 != 5]\n",
        "print(\"New DataFrame\")\n",
        "print(df)"
      ]
    },
    {
      "cell_type": "markdown",
      "id": "8cb29e24",
      "metadata": {
        "id": "8cb29e24"
      },
      "source": [
        "29.Write a Pandas program to widen output display to see more columns."
      ]
    },
    {
      "cell_type": "code",
      "execution_count": null,
      "id": "9e8015eb",
      "metadata": {
        "id": "9e8015eb",
        "outputId": "211f9df7-c3a8-4ff2-f0c2-d811d3216143"
      },
      "outputs": [
        {
          "name": "stdout",
          "output_type": "stream",
          "text": [
            "Original DataFrame\n",
            "   col1  col2  col3\n",
            "0     1     4     7\n",
            "1     4     5     8\n",
            "2     3     6     9\n",
            "3     4     7     0\n",
            "4     5     8     1\n"
          ]
        }
      ],
      "source": [
        "import pandas as pd\n",
        "import numpy as np\n",
        "d = {'col1': [1, 4, 3, 4, 5], 'col2': [4, 5, 6, 7, 8], 'col3': [7, 8, 9, 0, 1]}\n",
        "df = pd.DataFrame(data=d)\n",
        "pd.set_option('display.max_rows', 500)\n",
        "pd.set_option('display.max_columns', 500)\n",
        "pd.set_option('display.width', 1000)\n",
        "print(\"Original DataFrame\")\n",
        "print(df)"
      ]
    },
    {
      "cell_type": "markdown",
      "id": "cf4244ac",
      "metadata": {
        "id": "cf4244ac"
      },
      "source": [
        "30.Write a Pandas program to replace all the NaN values with Zero's in a column of a dataframe."
      ]
    },
    {
      "cell_type": "code",
      "execution_count": null,
      "id": "98afa542",
      "metadata": {
        "id": "98afa542",
        "outputId": "dade6f6e-6dc9-40e4-cdb7-7044bcf6493f"
      },
      "outputs": [
        {
          "name": "stdout",
          "output_type": "stream",
          "text": [
            "\n",
            "New DataFrame replacing all NaN with 0:\n",
            "        name  score  attempts qualify\n",
            "0  Anastasia   12.5         1     yes\n",
            "1       Dima    9.0         3      no\n",
            "2  Katherine   16.5         2     yes\n",
            "3      James    0.0         3      no\n",
            "4      Emily    9.0         2      no\n",
            "5    Michael   20.0         3     yes\n",
            "6    Matthew   14.5         1     yes\n",
            "7      Laura    0.0         1      no\n",
            "8      Kevin    8.0         2      no\n",
            "9      Jonas   19.0         1     yes\n"
          ]
        }
      ],
      "source": [
        "import pandas as pd\n",
        "import numpy as np\n",
        "exam_data = {'name': ['Anastasia', 'Dima', 'Katherine', 'James', 'Emily', 'Michael', 'Matthew', 'Laura', 'Kevin', 'Jonas'],\n",
        "        'score': [12.5, 9, 16.5, np.nan, 9, 20, 14.5, np.nan, 8, 19],\n",
        "        'attempts': [1, 3, 2, 3, 2, 3, 1, 1, 2, 1],\n",
        "        'qualify': ['yes', 'no', 'yes', 'no', 'no', 'yes', 'yes', 'no', 'no', 'yes']}\n",
        "df = pd.DataFrame(exam_data)\n",
        "df =  df.fillna(0)\n",
        "print(\"\\nNew DataFrame replacing all NaN with 0:\")\n",
        "print(df)"
      ]
    }
  ],
  "metadata": {
    "kernelspec": {
      "display_name": "Python 3 (ipykernel)",
      "language": "python",
      "name": "python3"
    },
    "language_info": {
      "codemirror_mode": {
        "name": "ipython",
        "version": 3
      },
      "file_extension": ".py",
      "mimetype": "text/x-python",
      "name": "python",
      "nbconvert_exporter": "python",
      "pygments_lexer": "ipython3",
      "version": "3.9.13"
    },
    "colab": {
      "provenance": []
    }
  },
  "nbformat": 4,
  "nbformat_minor": 5
}